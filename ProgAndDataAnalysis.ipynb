{
 "cells": [
  {
   "cell_type": "markdown",
   "metadata": {},
   "source": [
    "# Background\n",
    "In this project, I will be looking at the trends of the housing market in the UK. The dataset used shall be the most recent iteration of the UK House Price Index data. This dataset is released monthly as a CSV file, available from the gov.uk website $^1$.\n",
    "\n",
    "Knowing that this will be a large dataset (~55MB file), it makes sense to import this csv into Python as a pandas dataframe. This object type is well suited to manipulating large datasets and the associated pandas functions are built for data science tasks. Please note: for ease of reference, the csv is saved in the same directory as this notebook."
   ]
  },
  {
   "cell_type": "code",
   "execution_count": 1,
   "metadata": {},
   "outputs": [],
   "source": [
    "# Alias pandas as pd\n",
    "import pandas as pd\n",
    "\n",
    "# Import the dataset under a new object, hpi\n",
    "hpi = pd.read_csv(\"UK-HPI-full-file-2020-11.csv\")"
   ]
  },
  {
   "cell_type": "markdown",
   "metadata": {},
   "source": [
    "# Exploring the data\n",
    "Firstly, we need to take a look at the shape of the dataframe and the first few rows of data to get a better idea of the dataset."
   ]
  },
  {
   "cell_type": "code",
   "execution_count": 2,
   "metadata": {},
   "outputs": [
    {
     "name": "stdout",
     "output_type": "stream",
     "text": [
      "(131222, 54)\n",
      "         Date     RegionName   AreaCode  AveragePrice      Index  IndexSA  \\\n",
      "0  01/01/2004  Aberdeenshire  S12000034   81693.66964  40.864214      NaN   \n",
      "1  01/02/2004  Aberdeenshire  S12000034   81678.76231  40.856757      NaN   \n",
      "2  01/03/2004  Aberdeenshire  S12000034   83525.09702  41.780317      NaN   \n",
      "3  01/04/2004  Aberdeenshire  S12000034   84333.67900  42.184780      NaN   \n",
      "4  01/05/2004  Aberdeenshire  S12000034   86379.95396  43.208353      NaN   \n",
      "\n",
      "   1m%Change  12m%Change  AveragePriceSA  SalesVolume  ...     NewPrice  \\\n",
      "0        NaN         NaN             NaN        388.0  ...  88436.13953   \n",
      "1  -0.018248         NaN             NaN        326.0  ...  88606.44649   \n",
      "2   2.260483         NaN             NaN        453.0  ...  90296.91375   \n",
      "3   0.968071         NaN             NaN        571.0  ...  90319.87844   \n",
      "4   2.426403         NaN             NaN        502.0  ...  91989.17763   \n",
      "\n",
      "    NewIndex  New1m%Change  New12m%Change  NewSalesVolume     OldPrice  \\\n",
      "0  40.267250           NaN            NaN           103.0  81043.95084   \n",
      "1  40.344795      0.192576            NaN           107.0  80965.29542   \n",
      "2  41.114508      1.907838            NaN           140.0  82903.23948   \n",
      "3  41.124964      0.025432            NaN           180.0  84003.99161   \n",
      "4  41.885039      1.848208            NaN           167.0  86222.73484   \n",
      "\n",
      "    OldIndex  Old1m%Change  Old12m%Change  OldSalesVolume  \n",
      "0  40.883367           NaN            NaN           285.0  \n",
      "1  40.843688     -0.097053            NaN           219.0  \n",
      "2  41.821302      2.393549            NaN           313.0  \n",
      "3  42.376586      1.327755            NaN           391.0  \n",
      "4  43.495852      2.641235            NaN           335.0  \n",
      "\n",
      "[5 rows x 54 columns]\n"
     ]
    }
   ],
   "source": [
    "print(hpi.shape)\n",
    "print(hpi.head())"
   ]
  },
  {
   "cell_type": "markdown",
   "metadata": {},
   "source": [
    "We can see that this is a large dataframe with 131222 rows, 54 columns (some of which are not displayed) and there are several missing values.\n",
    "We need more information to get a better idea of what is and isn't in our dataframe."
   ]
  },
  {
   "cell_type": "code",
   "execution_count": 3,
   "metadata": {},
   "outputs": [
    {
     "name": "stdout",
     "output_type": "stream",
     "text": [
      "<class 'pandas.core.frame.DataFrame'>\n",
      "RangeIndex: 131222 entries, 0 to 131221\n",
      "Data columns (total 54 columns):\n",
      " #   Column                  Non-Null Count   Dtype  \n",
      "---  ------                  --------------   -----  \n",
      " 0   Date                    131222 non-null  object \n",
      " 1   RegionName              131222 non-null  object \n",
      " 2   AreaCode                131222 non-null  object \n",
      " 3   AveragePrice            131222 non-null  float64\n",
      " 4   Index                   131222 non-null  float64\n",
      " 5   IndexSA                 4329 non-null    float64\n",
      " 6   1m%Change               130771 non-null  float64\n",
      " 7   12m%Change              126086 non-null  float64\n",
      " 8   AveragePriceSA          4329 non-null    float64\n",
      " 9   SalesVolume             126711 non-null  float64\n",
      " 10  DetachedPrice           125153 non-null  float64\n",
      " 11  DetachedIndex           125153 non-null  float64\n",
      " 12  Detached1m%Change       124736 non-null  float64\n",
      " 13  Detached12m%Change      120173 non-null  float64\n",
      " 14  SemiDetachedPrice       125153 non-null  float64\n",
      " 15  SemiDetachedIndex       125153 non-null  float64\n",
      " 16  SemiDetached1m%Change   124736 non-null  float64\n",
      " 17  SemiDetached12m%Change  120173 non-null  float64\n",
      " 18  TerracedPrice           125180 non-null  float64\n",
      " 19  TerracedIndex           125180 non-null  float64\n",
      " 20  Terraced1m%Change       124763 non-null  float64\n",
      " 21  Terraced12m%Change      120200 non-null  float64\n",
      " 22  FlatPrice               125464 non-null  float64\n",
      " 23  FlatIndex               125464 non-null  float64\n",
      " 24  Flat1m%Change           125046 non-null  float64\n",
      " 25  Flat12m%Change          120472 non-null  float64\n",
      " 26  CashPrice               44298 non-null   float64\n",
      " 27  CashIndex               44298 non-null   float64\n",
      " 28  Cash1m%Change           43884 non-null   float64\n",
      " 29  Cash12m%Change          39330 non-null   float64\n",
      " 30  CashSalesVolume         43469 non-null   float64\n",
      " 31  MortgagePrice           44298 non-null   float64\n",
      " 32  MortgageIndex           44298 non-null   float64\n",
      " 33  Mortgage1m%Change       43884 non-null   float64\n",
      " 34  Mortgage12m%Change      39330 non-null   float64\n",
      " 35  MortgageSalesVolume     43470 non-null   float64\n",
      " 36  FTBPrice                44694 non-null   float64\n",
      " 37  FTBIndex                44694 non-null   float64\n",
      " 38  FTB1m%Change            44280 non-null   float64\n",
      " 39  FTB12m%Change           39726 non-null   float64\n",
      " 40  FOOPrice                44298 non-null   float64\n",
      " 41  FOOIndex                44298 non-null   float64\n",
      " 42  FOO1m%Change            43884 non-null   float64\n",
      " 43  FOO12m%Change           39330 non-null   float64\n",
      " 44  NewPrice                124629 non-null  float64\n",
      " 45  NewIndex                124629 non-null  float64\n",
      " 46  New1m%Change            124211 non-null  float64\n",
      " 47  New12m%Change           119637 non-null  float64\n",
      " 48  NewSalesVolume          124260 non-null  float64\n",
      " 49  OldPrice                124632 non-null  float64\n",
      " 50  OldIndex                124632 non-null  float64\n",
      " 51  Old1m%Change            124214 non-null  float64\n",
      " 52  Old12m%Change           119640 non-null  float64\n",
      " 53  OldSalesVolume          124618 non-null  float64\n",
      "dtypes: float64(51), object(3)\n",
      "memory usage: 54.1+ MB\n",
      "None\n"
     ]
    }
   ],
   "source": [
    "print(hpi.info())"
   ]
  },
  {
   "cell_type": "markdown",
   "metadata": {},
   "source": [
    "We now have an idea of all the column names and those with missing values - we now know that all but the first 5 columns have missing data. Also, all but the first 3 columns contain numeric data. A crucial step is to make sure the date column is formatted as a date (adapted from code at stackoverflow $^2$)."
   ]
  },
  {
   "cell_type": "code",
   "execution_count": 4,
   "metadata": {},
   "outputs": [
    {
     "name": "stdout",
     "output_type": "stream",
     "text": [
      "<class 'pandas.core.frame.DataFrame'>\n",
      "RangeIndex: 131222 entries, 0 to 131221\n",
      "Data columns (total 1 columns):\n",
      " #   Column  Non-Null Count   Dtype         \n",
      "---  ------  --------------   -----         \n",
      " 0   Date    131222 non-null  datetime64[ns]\n",
      "dtypes: datetime64[ns](1)\n",
      "memory usage: 1.0 MB\n"
     ]
    }
   ],
   "source": [
    "hpi['Date'] = pd.to_datetime(hpi['Date'], format=\"%d/%m/%Y\")\n",
    "#Check that the Date column has now changed type to datetime\n",
    "hpi[['Date']].info()"
   ]
  },
  {
   "cell_type": "markdown",
   "metadata": {},
   "source": [
    "We can see that the Datatype for the Date column is now set as a datetime."
   ]
  },
  {
   "cell_type": "markdown",
   "metadata": {},
   "source": [
    "# Column definitions\n",
    "From the full dataframe info, we see that some of the column names are slightly ambiguous. The gov.uk website provides definitions for each of these column headers on the 'about' section of the website $^3$. It may help the understanding of the data to be able to quickly view the definitions of the column headings from within Python. Also, for any future work on this dataset, it would be useful to have these column definitions quickly available. A dictionary may allow a quick way for any analyst to quickly access the defintion of a column name."
   ]
  },
  {
   "cell_type": "code",
   "execution_count": 5,
   "metadata": {},
   "outputs": [],
   "source": [
    "# Create dictionary of column headers and their defintions\n",
    "colDict = {\n",
    "    \"Date\": \"The year and month to which the monthly statistics apply\",\n",
    "    \"RegionName\": \"Name of geography (Country, Regional, County/Unitary/District Authority and London Borough)\",\n",
    "    \"AreaCode\": \"Code of geography (Country, Regional, County/Unitary/District Authority and London Borough)\",\n",
    "    \"Average Price\": \"Average house price for a geography in a particular period\",\n",
    "    \"Index\": \"House price index for a geography in a particular period (January 2015=100).\",\n",
    "    \"IndexSA\": \"Seasonally adjusted house price for a geography in a particular period (January 2015=100).\",\n",
    "    \"1m%Change\": \"The percentage change in the Average Price compared to the previous month\",\n",
    "    \"12m%Change\": \"The percentage change in the Average Price compared to the same period twelve months earlier.\",\n",
    "    \"AveragePricesSA\": \"Seasonally adjusted Average Price for a geography in a particular period\",\n",
    "    \"SalesVolume\": \"Number of registered transactions for a geography in a particular period\",\n",
    "    \"[Property Type]Price\": \"Average house price for a particular property type (such as detached houses), for a geography in a particular period.\",\n",
    "    \"[Property Type]Index\": \"House price index for a particular property type (such as detached houses), for a geography in a particular period (January 2015=100).\",\n",
    "    \"[Property Type]1m%Change\": \"The percentage change in the [Property Type] Price (such as detached houses) compared to the previous month\",\n",
    "    \"[Property Type]12m%Change\": \"The percentage change in the [Property Type] Price (such as detached houses) compared to the same period twelve months earlier.\",\n",
    "    \"[Cash/Mortgage]Price\": \"Average house price by funding status (such as cash), for a geography in a particular period.\",\n",
    "    \"[Cash/Mortgage]Index\": \"House price index by funding status (such as cash), for a geography in a particular period (January 2015=100).\",\n",
    "    \"[Cash/Mortgage]1m%Change\": \"The percentage change in the [Cash/Mortgage]Price compared to the previous month\",\n",
    "    \"[Cash/Mortgage]12m%Change\": \"The percentage change in the [Cash/Mortgage]Price compared to the same period twelve months earlier.\",\n",
    "    \"[Cash/Mortgage]SalesVolume\": \"Number of registered transactions [Cash/Mortgage] for a geography in a particular period\",\n",
    "    \"[FTB/FOO]Price\": \"Average house price by buyer status (such as first time buyer/former owner occupier), for a geography in a particular period.\",\n",
    "    \"[FTB/FOO]Index\": \"House price index by buyer status (such as first time buyer/former owner occupier), for a geography in a particular period. (January 2015=100).\",\n",
    "    \"[FTB/FOO]1m%Change\": \"The percentage change in the [FTB/FOO]Price compared to the previous month\",\n",
    "    \"[FTB/FOO]12m%Change\": \"The percentage change in the [FTB/FOO]Price compared to the same period twelve months earlier.\",\n",
    "    \"[New/Old]Price\": \"Average house price by property status (such as new or existing property), for a geography in a particular period.\",\n",
    "    \"[New/Old]Index\": \"House price index by property status (such as new or existing property), for a geography in a particular period. (January 2015=100).\",\n",
    "    \"[New/Old]1m%Change\": \"The percentage change in the [New/Old]Price compared to the previous month\",\n",
    "    \"[New/Old]12m%Change\": \"The percentage change in the [New/Old]Price compared to the same period twelve months earlier.\",\n",
    "    \"[New/Old]SalesVolume\": \"Number of registered transactions [New/Old] for a geography in a particular period\"\n",
    "}"
   ]
  },
  {
   "cell_type": "markdown",
   "metadata": {},
   "source": [
    "The obvious issue with this dictionary is that not all of the keys are written in the same form as in the column headings - for simplicity, gov.uk have combined certain definitions. For example, to get the definition of the column 'FTB Price', you would have to look up '\\[FTB/FOO\\]Price' in the dictionary. These 2 categories of heading forms will generally be referred to as the 'individual' form (eg. 'FTB Price') and the 'combined' form (eg. '\\[FTB/FOO\\]Price') of the column names respectively.\n",
    "\n",
    "A function is written to allow more intuitive querying of a definition. This is designed so that any subset of this data can also use the same definition function, provided the column names are not changed."
   ]
  },
  {
   "cell_type": "code",
   "execution_count": 6,
   "metadata": {},
   "outputs": [],
   "source": [
    "def defHead(df,*head):\n",
    "    \"\"\"Return the definition from dataframe df of the column header(s)\"\"\"\n",
    "    \n",
    "    # Initialise an empty string\n",
    "    input = \"\"\n",
    "    \n",
    "    # The first argument is the dataframe, df, and any further arguments are a column header name or index\n",
    "    # Iterate through the column headers\n",
    "    for col in head:\n",
    "        \n",
    "        # Save the query in the 'input' string\n",
    "        input = col\n",
    "        \n",
    "        # If a column index has been specified, find the column name (adapted from code at w3schools [4])\n",
    "        if (isinstance(col, int)):\n",
    "            # Check the column index is not out of range of the dataframe (a negative index is allowed)\n",
    "            if (abs(col) < len(df.columns)):\n",
    "                # Get the column name\n",
    "                colName = df.columns[col]\n",
    "                # Append the column name to the query string, so that both the column index and name are shown\n",
    "                input = str(input) + \" - \" + colName\n",
    "                # Overwrite the integer in the col variable with the column name\n",
    "                col = colName\n",
    "            else:\n",
    "                # The column index requested is not in the dataframe, put a message in the query string\n",
    "                input = str(input) + \" - Dataframe index out of range\"\n",
    "                # Set the col variable to an arbitrary string\n",
    "                col = \"Error\"\n",
    "        \n",
    "        # Define a list of the 'individual' references - notice 'Detached' is AFTER 'SemiDetached' as the former string is contained within the latter\n",
    "        indList = [\"SemiDetached\", \"Detached\", \"Terraced\", \"Flat\", \"Cash\", \"Mortgage\", \"FTB\", \"FOO\", \"New\", \"Old\"]\n",
    "\n",
    "        def rmIndiv(col):\n",
    "            \"\"\"Function to remove the 'individual' reference where there is a 'combined' reference available\"\"\"\n",
    "            # Check for the presence of any of the 'individual' references and remove them\n",
    "            for indiv in indList:\n",
    "                col = col.replace((indiv),\"\")\n",
    "            return col\n",
    "        \n",
    "        # Remove the 'individual' reference and insert the appropriate 'combined' form (adapted from code at w3schools [5])\n",
    "        if col.startswith((\"Detached\", \"SemiDetached\", \"Terraced\", \"Flat\")):\n",
    "            col = rmIndiv(col)\n",
    "            col = \"[Property Type]\" + col\n",
    "        elif col.startswith((\"Cash\", \"Mortgage\")):\n",
    "            col = rmIndiv(col)\n",
    "            col = \"[Cash/Mortgage]\" + col\n",
    "        elif col.startswith((\"FTB\", \"FOO\")):\n",
    "            col = rmIndiv(col)\n",
    "            col = \"[FTB/FOO]\" + col\n",
    "        elif col.startswith((\"New\", \"Old\")):\n",
    "            col = rmIndiv(col)\n",
    "            col = \"[New/Old]\" + col\n",
    "        \n",
    "        # Print the query string\n",
    "        print(input, \": \")\n",
    "        # Print the definition of the column name if available\n",
    "        try:\n",
    "            print(colDict[col])\n",
    "        except:\n",
    "            print(\"-- Definition of column name not found --\")\n",
    "        # Print new line for better formatting\n",
    "        print(\"\\n\")"
   ]
  },
  {
   "cell_type": "markdown",
   "metadata": {},
   "source": [
    "The function defHead now works to print a definition as desired. The following code shows an example of outputs, including instances with out-of-range errors (+ and -) and where the column name is not in the dictionary."
   ]
  },
  {
   "cell_type": "code",
   "execution_count": 7,
   "metadata": {},
   "outputs": [
    {
     "name": "stdout",
     "output_type": "stream",
     "text": [
      "53 - OldSalesVolume : \n",
      "Number of registered transactions [New/Old] for a geography in a particular period\n",
      "\n",
      "\n",
      "92 - Dataframe index out of range : \n",
      "-- Definition of column name not found --\n",
      "\n",
      "\n",
      "-21 - Mortgage1m%Change : \n",
      "The percentage change in the [Cash/Mortgage]Price compared to the previous month\n",
      "\n",
      "\n",
      "-60 - Dataframe index out of range : \n",
      "-- Definition of column name not found --\n",
      "\n",
      "\n",
      "New12m%Change : \n",
      "The percentage change in the [New/Old]Price compared to the same period twelve months earlier.\n",
      "\n",
      "\n",
      "RandomString : \n",
      "-- Definition of column name not found --\n",
      "\n",
      "\n"
     ]
    }
   ],
   "source": [
    "defHead(hpi,53,92,-21,-60,'New12m%Change','RandomString')"
   ]
  },
  {
   "cell_type": "markdown",
   "metadata": {},
   "source": [
    "# Narrowing the Data\n",
    "This report is looking to examine the general trends in the housing market. With this in mind, we can select an appropriate subset of the dataframe.\n",
    "Looking back at the info output, we can see in which columns to find the relevant information. A copy of the original dataframe is made to allow for further manipulation rather than taking a slice. Whilst this increases the memory usage, this is only a small fraction of the original dataset so should not cause any memory usage issues."
   ]
  },
  {
   "cell_type": "code",
   "execution_count": 8,
   "metadata": {},
   "outputs": [
    {
     "name": "stdout",
     "output_type": "stream",
     "text": [
      "<class 'pandas.core.frame.DataFrame'>\n",
      "RangeIndex: 131222 entries, 0 to 131221\n",
      "Data columns (total 7 columns):\n",
      " #   Column        Non-Null Count   Dtype         \n",
      "---  ------        --------------   -----         \n",
      " 0   Date          131222 non-null  datetime64[ns]\n",
      " 1   RegionName    131222 non-null  object        \n",
      " 2   AreaCode      131222 non-null  object        \n",
      " 3   AveragePrice  131222 non-null  float64       \n",
      " 4   1m%Change     130771 non-null  float64       \n",
      " 5   12m%Change    126086 non-null  float64       \n",
      " 6   SalesVolume   126711 non-null  float64       \n",
      "dtypes: datetime64[ns](1), float64(4), object(2)\n",
      "memory usage: 7.0+ MB\n"
     ]
    }
   ],
   "source": [
    "# Select all rows and the required columns\n",
    "subdf = hpi.iloc[:,[0,1,2,3,6,7,9]].copy()\n",
    "subdf.info()"
   ]
  },
  {
   "cell_type": "markdown",
   "metadata": {},
   "source": [
    "The defHead function is used to find the definition of the ambiguous column names in the new dataset."
   ]
  },
  {
   "cell_type": "code",
   "execution_count": 9,
   "metadata": {},
   "outputs": [
    {
     "name": "stdout",
     "output_type": "stream",
     "text": [
      "4 - 1m%Change : \n",
      "The percentage change in the Average Price compared to the previous month\n",
      "\n",
      "\n",
      "5 - 12m%Change : \n",
      "The percentage change in the Average Price compared to the same period twelve months earlier.\n",
      "\n",
      "\n"
     ]
    }
   ],
   "source": [
    "defHead(subdf,4,5)"
   ]
  },
  {
   "cell_type": "markdown",
   "metadata": {},
   "source": [
    "## Total Spend\n",
    "Looking at the whole market, it may be beneficial to know the total spend in each region. A total regional spend is clearly relevant to e.g. mortgage lenders, as properties are generally purchased using a mortgage - a greater spend in a region may provide an indication of greater debt apetite and therefore potential for new customers.\n",
    "The total spend is calculated by multiplying Average Price by Sales Volume, and the result is saved as a new column. As there is a new column, a new entry is added to the dictionary also."
   ]
  },
  {
   "cell_type": "code",
   "execution_count": 10,
   "metadata": {},
   "outputs": [
    {
     "name": "stdout",
     "output_type": "stream",
     "text": [
      "(427, 8)\n",
      "(427, 8)\n"
     ]
    }
   ],
   "source": [
    "subdf['TotalSpend'] = subdf['AveragePrice']*subdf['SalesVolume']\n",
    "colDict['TotalSpend'] = \"The total expenditure on property in a region for a particular period. Calculated as AveragePrice x SalesVolume\"\n",
    "\n",
    "# SalesVolume has missing data, so we remove those rows and select the most recent month (adapted from code at geeksforgeeks [6])\n",
    "subRec = subdf[pd.notnull(subdf['SalesVolume'])]\n",
    "subRec = subRec[subRec['Date'] == max(subRec['Date'])]\n",
    "print(subRec.shape)\n",
    "subRec.RegionName.drop_duplicates()\n",
    "print(subRec.shape)"
   ]
  },
  {
   "cell_type": "markdown",
   "metadata": {},
   "source": [
    "We can see from slicing this data by a single date that there are 427 regions reported per month with no duplicates (the shape doesn't change after dropping duplicates).\n",
    "This data is then sorted by Total Spend (constructed using pandas documentation $^7$)."
   ]
  },
  {
   "cell_type": "code",
   "execution_count": 11,
   "metadata": {},
   "outputs": [
    {
     "data": {
      "text/html": [
       "<div>\n",
       "<style scoped>\n",
       "    .dataframe tbody tr th:only-of-type {\n",
       "        vertical-align: middle;\n",
       "    }\n",
       "\n",
       "    .dataframe tbody tr th {\n",
       "        vertical-align: top;\n",
       "    }\n",
       "\n",
       "    .dataframe thead th {\n",
       "        text-align: right;\n",
       "    }\n",
       "</style>\n",
       "<table border=\"1\" class=\"dataframe\">\n",
       "  <thead>\n",
       "    <tr style=\"text-align: right;\">\n",
       "      <th></th>\n",
       "      <th>Date</th>\n",
       "      <th>RegionName</th>\n",
       "      <th>AreaCode</th>\n",
       "      <th>AveragePrice</th>\n",
       "      <th>1m%Change</th>\n",
       "      <th>12m%Change</th>\n",
       "      <th>SalesVolume</th>\n",
       "      <th>TotalSpend</th>\n",
       "    </tr>\n",
       "  </thead>\n",
       "  <tbody>\n",
       "    <tr>\n",
       "      <th>116477</th>\n",
       "      <td>2020-09-01</td>\n",
       "      <td>United Kingdom</td>\n",
       "      <td>K02000001</td>\n",
       "      <td>243317.9894</td>\n",
       "      <td>1.159343</td>\n",
       "      <td>4.188576</td>\n",
       "      <td>70750.0</td>\n",
       "      <td>1.721475e+10</td>\n",
       "    </tr>\n",
       "    <tr>\n",
       "      <th>46620</th>\n",
       "      <td>2020-09-01</td>\n",
       "      <td>Great Britain</td>\n",
       "      <td>K03000001</td>\n",
       "      <td>246226.8462</td>\n",
       "      <td>1.187656</td>\n",
       "      <td>4.230205</td>\n",
       "      <td>66120.0</td>\n",
       "      <td>1.628052e+10</td>\n",
       "    </tr>\n",
       "    <tr>\n",
       "      <th>40533</th>\n",
       "      <td>2020-09-01</td>\n",
       "      <td>England and Wales</td>\n",
       "      <td>K04000001</td>\n",
       "      <td>255211.4314</td>\n",
       "      <td>0.891038</td>\n",
       "      <td>4.270837</td>\n",
       "      <td>55946.0</td>\n",
       "      <td>1.427806e+10</td>\n",
       "    </tr>\n",
       "    <tr>\n",
       "      <th>40222</th>\n",
       "      <td>2020-09-01</td>\n",
       "      <td>England</td>\n",
       "      <td>E92000001</td>\n",
       "      <td>260330.7977</td>\n",
       "      <td>1.059237</td>\n",
       "      <td>4.283752</td>\n",
       "      <td>53428.0</td>\n",
       "      <td>1.390895e+10</td>\n",
       "    </tr>\n",
       "    <tr>\n",
       "      <th>97702</th>\n",
       "      <td>2020-09-01</td>\n",
       "      <td>South East</td>\n",
       "      <td>E12000008</td>\n",
       "      <td>335294.6437</td>\n",
       "      <td>1.053149</td>\n",
       "      <td>3.562058</td>\n",
       "      <td>9766.0</td>\n",
       "      <td>3.274487e+09</td>\n",
       "    </tr>\n",
       "    <tr>\n",
       "      <th>64643</th>\n",
       "      <td>2020-09-01</td>\n",
       "      <td>London</td>\n",
       "      <td>E12000007</td>\n",
       "      <td>496312.5432</td>\n",
       "      <td>1.008176</td>\n",
       "      <td>4.016883</td>\n",
       "      <td>5887.0</td>\n",
       "      <td>2.921792e+09</td>\n",
       "    </tr>\n",
       "    <tr>\n",
       "      <th>38035</th>\n",
       "      <td>2020-09-01</td>\n",
       "      <td>East of England</td>\n",
       "      <td>E12000006</td>\n",
       "      <td>303132.2159</td>\n",
       "      <td>1.448252</td>\n",
       "      <td>3.878573</td>\n",
       "      <td>6198.0</td>\n",
       "      <td>1.878813e+09</td>\n",
       "    </tr>\n",
       "    <tr>\n",
       "      <th>102269</th>\n",
       "      <td>2020-09-01</td>\n",
       "      <td>South West</td>\n",
       "      <td>E12000009</td>\n",
       "      <td>272665.9287</td>\n",
       "      <td>2.100794</td>\n",
       "      <td>5.365795</td>\n",
       "      <td>6277.0</td>\n",
       "      <td>1.711524e+09</td>\n",
       "    </tr>\n",
       "    <tr>\n",
       "      <th>93017</th>\n",
       "      <td>2020-09-01</td>\n",
       "      <td>Scotland</td>\n",
       "      <td>S92000003</td>\n",
       "      <td>160883.4882</td>\n",
       "      <td>3.720641</td>\n",
       "      <td>3.879934</td>\n",
       "      <td>10168.0</td>\n",
       "      <td>1.635863e+09</td>\n",
       "    </tr>\n",
       "    <tr>\n",
       "      <th>82649</th>\n",
       "      <td>2020-09-01</td>\n",
       "      <td>Outer London</td>\n",
       "      <td>E13000002</td>\n",
       "      <td>436854.6068</td>\n",
       "      <td>1.111637</td>\n",
       "      <td>2.595883</td>\n",
       "      <td>3594.0</td>\n",
       "      <td>1.570055e+09</td>\n",
       "    </tr>\n",
       "  </tbody>\n",
       "</table>\n",
       "</div>"
      ],
      "text/plain": [
       "             Date         RegionName   AreaCode  AveragePrice  1m%Change  \\\n",
       "116477 2020-09-01     United Kingdom  K02000001   243317.9894   1.159343   \n",
       "46620  2020-09-01      Great Britain  K03000001   246226.8462   1.187656   \n",
       "40533  2020-09-01  England and Wales  K04000001   255211.4314   0.891038   \n",
       "40222  2020-09-01            England  E92000001   260330.7977   1.059237   \n",
       "97702  2020-09-01         South East  E12000008   335294.6437   1.053149   \n",
       "64643  2020-09-01             London  E12000007   496312.5432   1.008176   \n",
       "38035  2020-09-01    East of England  E12000006   303132.2159   1.448252   \n",
       "102269 2020-09-01         South West  E12000009   272665.9287   2.100794   \n",
       "93017  2020-09-01           Scotland  S92000003   160883.4882   3.720641   \n",
       "82649  2020-09-01       Outer London  E13000002   436854.6068   1.111637   \n",
       "\n",
       "        12m%Change  SalesVolume    TotalSpend  \n",
       "116477    4.188576      70750.0  1.721475e+10  \n",
       "46620     4.230205      66120.0  1.628052e+10  \n",
       "40533     4.270837      55946.0  1.427806e+10  \n",
       "40222     4.283752      53428.0  1.390895e+10  \n",
       "97702     3.562058       9766.0  3.274487e+09  \n",
       "64643     4.016883       5887.0  2.921792e+09  \n",
       "38035     3.878573       6198.0  1.878813e+09  \n",
       "102269    5.365795       6277.0  1.711524e+09  \n",
       "93017     3.879934      10168.0  1.635863e+09  \n",
       "82649     2.595883       3594.0  1.570055e+09  "
      ]
     },
     "execution_count": 11,
     "metadata": {},
     "output_type": "execute_result"
    }
   ],
   "source": [
    "subRec.sort_values(by=['TotalSpend'], ascending = False).head(10)"
   ]
  },
  {
   "cell_type": "markdown",
   "metadata": {},
   "source": [
    "We can see the regions where most money is being spent, and therefore the possible target regions for new customer acquisition.\n",
    "\n",
    "Through sorting by the biggest total spend, we have also identified that the regions specified in this data are not only counties/locales, but also include nations and the whole country. It would make sense to examine and compare the trends in property prices in these broader regions over time."
   ]
  },
  {
   "cell_type": "markdown",
   "metadata": {},
   "source": [
    "# 10-year Trends\n",
    "The focus here will be on Scotland, England, and Wales, so Great Britain is selected as the 'whole country' region. Additionally, London is an anomaly as despite it being a city, (in September 2020) it had a larger spend than most larger regions and both Scotland and Wales. It may therefore be informative to see how the London region is changing over time also.\n",
    "A suitable timeframe for observing these trends is 10 years - this will be generated automatically as the most recent 10 years of the dataset."
   ]
  },
  {
   "cell_type": "code",
   "execution_count": 12,
   "metadata": {},
   "outputs": [
    {
     "data": {
      "image/png": "[encoded data removed]",
      "text/plain": [
       "<Figure size 504x432 with 1 Axes>"
      ]
     },
     "metadata": {
      "needs_background": "light"
     },
     "output_type": "display_data"
    }
   ],
   "source": [
    "# Put the regions of interest into a list\n",
    "regions = ['Great Britain', 'England', 'Wales', 'Scotland', 'London']\n",
    "\n",
    "# Determine the start date to give a 10 year timespan (adapted from code at stackoverflow [8])\n",
    "import datetime\n",
    "endDate = max(subdf['Date'])\n",
    "startDate = pd.to_datetime(datetime.date((endDate.year - 10), endDate.month, endDate.day), format=\"%Y-%m-%d\")\n",
    "\n",
    "# Filter for required regions and date\n",
    "subReg = subdf[(subdf['RegionName'].isin(regions)) & (subdf['Date'] >= startDate)]\n",
    "\n",
    "# Alias pyplot to use for plotting graphs\n",
    "import matplotlib.pyplot as plt\n",
    "\n",
    "# Determine the graph's variables\n",
    "date = subReg['Date']\n",
    "price = subReg['AveragePrice']\n",
    "\n",
    "# To colour code by region, first create a dictionary\n",
    "regDic = {\n",
    "    'Great Britain': 'Black',\n",
    "    'Scotland': 'Blue',\n",
    "    'Wales': 'Green',\n",
    "    'England': 'Red',\n",
    "    'London': 'Purple'\n",
    "}\n",
    "# Create region list\n",
    "region = []\n",
    "# Assign colours to regions\n",
    "for reg in subReg['RegionName']:\n",
    "    region.append(regDic[reg])\n",
    "\n",
    "# Define graph attributes (built using matplotlib documentation [9])\n",
    "plt.figure(figsize=(7,6))\n",
    "plt.scatter(date, price, c=region,s=5)\n",
    "plt.xlabel(\"Date\")\n",
    "plt.ylabel(\"Price (£)\")\n",
    "plt.title(\"Average House Price By Region\", fontsize=14)\n",
    "plt.grid(color='grey', linewidth=0.4, alpha=0.8)\n",
    "\n",
    "# Import mpatches to generate a custom legend (code adapted from matplotlib tutorial [10])\n",
    "import matplotlib.patches as mpatches\n",
    "# Generate list of legend objects\n",
    "regLeg = []\n",
    "for reg in regDic:\n",
    "    regLeg.append(mpatches.Patch(color=regDic[reg], label=reg))\n",
    "\n",
    "plt.legend(handles=regLeg)\n",
    "plt.show()"
   ]
  },
  {
   "cell_type": "markdown",
   "metadata": {},
   "source": [
    "Note that this is kept as a scatterplot rather than a line graph so that trend deviations are more evident. From this graph, we can see that London prices increased dramatically between 2013 and 2017 relative to Great Britain, before following the general trend, with another sharper increase towards the end of 2020. England prices have risen slightly above the country average, with Scotland and Wales prices not seeing the same absolute increase in price. This indicates that overall, existing loans provided to London and England should have reduced their loan-to-value ratio (and therefore risk) to a greater extent than in Wales and Scotland. As these are national averages, this could be examined against a mortgage lender's own loan book to confirm the validity of this trend or see how it compares."
   ]
  },
  {
   "cell_type": "markdown",
   "metadata": {},
   "source": [
    "# Short-term Trends"
   ]
  },
  {
   "cell_type": "markdown",
   "metadata": {},
   "source": [
    "## Most recent year, grouped by nation\n",
    "It is important to note that the 10-year trend graph above shows absolute price changes and not percentage changes. It is useful to know how prices are changing around the country on a percentage basis in the shorter term to have an idea of price trajectory.\n",
    "The subdf dataset is filtered to subshort by finding the most recent year, then further sliced by nation."
   ]
  },
  {
   "cell_type": "code",
   "execution_count": 13,
   "metadata": {},
   "outputs": [
    {
     "name": "stdout",
     "output_type": "stream",
     "text": [
      "         1m%Change   12m%Change\n",
      "count  4628.000000  4628.000000\n",
      "mean      0.438487     2.066624\n",
      "std       1.517710     3.064978\n",
      "min     -11.902823   -14.063315\n",
      "25%      -0.452851     0.097663\n",
      "50%       0.336320     1.868972\n",
      "75%       1.291585     3.855523\n",
      "max      12.387546    28.646251\n"
     ]
    }
   ],
   "source": [
    "# endDate already contains the most recent date, find 1 year prior\n",
    "shortStart = pd.to_datetime(datetime.date((endDate.year - 1), endDate.month, endDate.day), format=\"%Y-%m-%d\")\n",
    "subshort = subdf[subdf['Date'] >= shortStart].copy()\n",
    "\n",
    "# Select each region required based on Area Code (built using pandas documentation [11])\n",
    "shortS = subshort[subshort['AreaCode'].str.contains('S')]\n",
    "shortW = subshort[subshort['AreaCode'].str.contains('W')]\n",
    "shortE = subshort[subshort['AreaCode'].str.contains('E')]\n",
    "shortL = subshort[subshort['RegionName'] == 'London']\n",
    "shortG = subshort[subshort['RegionName'] == 'Great Britain']\n",
    "\n",
    "print(\n",
    "    shortE[['1m%Change', '12m%Change']].describe()\n",
    ")"
   ]
  },
  {
   "cell_type": "markdown",
   "metadata": {},
   "source": [
    "Looking at the description for percentage changes for England as an example, we can see that the range is far greater in the 12month change than in the 1month change. As we are looking at shorter term trends, the monthly changes are likely more informative. However, comparing the regions in this way is not intuitive, so boxplots are constructed."
   ]
  },
  {
   "cell_type": "markdown",
   "metadata": {},
   "source": [
    "## Boxplots"
   ]
  },
  {
   "cell_type": "code",
   "execution_count": 14,
   "metadata": {
    "scrolled": true
   },
   "outputs": [
    {
     "data": {
      "image/png": "[encoded data removed]",
      "text/plain": [
       "<Figure size 504x648 with 1 Axes>"
      ]
     },
     "metadata": {
      "needs_background": "light"
     },
     "output_type": "display_data"
    }
   ],
   "source": [
    "fig, ax = plt.subplots(figsize=(7, 9))\n",
    "\n",
    "# Initiate a counting integer for the total number of boxplots\n",
    "pos = 0\n",
    "def boxShort(df,region):\n",
    "    \"\"\"Plot a(n additional) 1-month %age change boxplot of the selected region\"\"\"\n",
    "    global pos\n",
    "    # Increment the number of boxplots\n",
    "    pos = pos + 1\n",
    "    # Build the boxplot attributes (code adapted from stackoverflow and using matplotlib documentation [12 - 15])\n",
    "    return ax.boxplot(\n",
    "        # Select the data\n",
    "        df['1m%Change'],\n",
    "        # Show the mean of the data    \n",
    "        showmeans=True,\n",
    "        # Add the boxplot to the end of the graph\n",
    "        positions = [pos],\n",
    "        # Choose the colour and thickness (based on previous graph's colours)\n",
    "        boxprops=dict(color = regDic[region], linewidth=3.0),\n",
    "        whiskerprops=dict(color = regDic[region], linewidth=2.0),\n",
    "        # Label the plot\n",
    "        labels = [region],\n",
    "        # Choose size of boxplot\n",
    "        widths = 0.5\n",
    "    )\n",
    "\n",
    "# Choose boxes to plot\n",
    "box1 = boxShort(shortG,'Great Britain')\n",
    "box2 = boxShort(shortS,'Scotland')\n",
    "box3 = boxShort(shortW,'Wales')\n",
    "box4 = boxShort(shortE,'England')\n",
    "box5 = boxShort(shortL,'London')\n",
    "\n",
    "# Label y-axis, insert title, and show gridlines\n",
    "ax.set_ylabel('Log of Monthly Percentage Change', fontsize = 12)\n",
    "ax.set_title('Monthly Change in %age House Price\\n(All Regions grouped by Nation, 1 year)', fontsize = 14)\n",
    "plt.grid(color='grey', linewidth=0.3, alpha=0.6)\n",
    "\n",
    "# Change scale of graph from linear to logarithmic (symmetrical log allows -ve values)\n",
    "plt.yscale('symlog')\n",
    "\n",
    "plt.show()"
   ]
  },
  {
   "cell_type": "markdown",
   "metadata": {},
   "source": [
    "From the boxplots, we see that there is clear negative skew in the London data (mean = green triangle), suggesting there has generally been a weaker positive or a negative trend in housing prices over the short term. This could negatively impact the LTVs of London property loans.\n",
    "In Scotland, Wales and England overall, whilst skew is not obvious, there is clearly a greater spread of the percentage change in Scotland than Wales, and in Wales than England. This is whilst the means and medians of these nations are similar and low, which indicates that England prices in general are currently less volatile than Wales or Scotland, suggesting lower risk of valuation changes. However, Wales shows fewer outliers, suggesting that Wales property values are changing more predictably and homogenously, and therefore potentially require less complex modelling to predict future valuation changes."
   ]
  },
  {
   "cell_type": "markdown",
   "metadata": {},
   "source": [
    "## Probability density plot\n",
    "To further compare the short-term changes in all regions grouped by nation, a probability density plot is drawn."
   ]
  },
  {
   "cell_type": "code",
   "execution_count": 15,
   "metadata": {},
   "outputs": [
    {
     "data": {
      "image/png": "[encoded data removed]",
      "text/plain": [
       "<Figure size 648x288 with 1 Axes>"
      ]
     },
     "metadata": {
      "needs_background": "light"
     },
     "output_type": "display_data"
    }
   ],
   "source": [
    "# Select data to include\n",
    "x = [shortS['1m%Change'],shortW['1m%Change'],shortE['1m%Change']]\n",
    "# Turn off 'deprecated' warning for different data lengths (code from stackoverflow [16])\n",
    "import numpy as np\n",
    "np.warnings.filterwarnings('ignore', category=np.VisibleDeprecationWarning)\n",
    "# Choose size of graph\n",
    "plt.figure(figsize=(9,4))\n",
    "# Construct histogram (written using matplotlib documentation [17])\n",
    "plt.hist(\n",
    "    x,\n",
    "    bins=10,\n",
    "    density=True,\n",
    "    color=[regDic['Scotland'],regDic['Wales'],regDic['England']],\n",
    "    label=['Scotland','Wales','England']\n",
    ")\n",
    "# Set graph labelling attributes\n",
    "plt.xlabel('Percentage Change', fontsize=12)\n",
    "plt.ylabel('Probability Density', fontsize=12)\n",
    "plt.title('Probability Density Plot of Monthly %age House Price Change\\n(All regions grouped by nation, 1 year)', fontsize=14)\n",
    "plt.legend()\n",
    "plt.show()"
   ]
  },
  {
   "cell_type": "markdown",
   "metadata": {},
   "source": [
    "The histogram shows the probabilites of different percentage changes in each nation when examining by region. This again shows the greater spread of price change in Scottish regions, but also the general clustering around 0 for all nations, particularly in England, with some right skew in all regions grouped by nation. Generally, this suggests a slight positive monthly trend in value, but with possible higher volatility in Scotland. This could also suggest that there is some extremification of property values in Scottish regions, and further research could look at testing this idea and identifying those regions."
   ]
  },
  {
   "cell_type": "markdown",
   "metadata": {},
   "source": [
    "# References\n",
    "\n",
    "1. 'UK House Price Index: data downloads November 2020'. Gov.uk. 20 Jan 2021. Available at: https://www.gov.uk/government/statistical-data-sets/uk-house-price-index-data-downloads-november-2020. Accessed: 31 Jan 2021.\n",
    "\n",
    "2. 'Convert DataFrame column type from string to datetime, dd/mm/yyyy format'. Andy Hayden. 24 Dec 2015. Available at: https://stackoverflow.com/questions/17134716/convert-dataframe-column-type-from-string-to-datetime-dd-mm-yyyy-format. Accessed: 31 Jan 2021.\n",
    "\n",
    "3. 'About the UK House Price Index'. Gov.uk. 02 Nov 2020. Available at: https://www.gov.uk/government/publications/about-the-uk-house-price-index/about-the-uk-house-price-index#data-tables. Accessed: 31 Jan 2021.\n",
    "\n",
    "4. 'Python isinstance() Function'. W3Schools.com. Available at: https://www.w3schools.com/python/ref_func_isinstance.asp. Accessed: 01 Feb 2021.\n",
    "\n",
    "5. 'Python String startswith() Method'. W3Schools.com. Available at: https://www.w3schools.com/python/ref_string_startswith.asp. Accessed: 02 Feb 2021.\n",
    "\n",
    "6. 'Python | Pandas isnull() and notnull()'. GeeksforGeeks. 02 Sep 2020. Available at: https://www.geeksforgeeks.org/python-pandas-isnull-and-notnull/. Accessed: 03 Feb 2021.\n",
    "\n",
    "7. 'pandas.DataFrame.sort_values'. Pandas Development Team. Available at: https://pandas.pydata.org/pandas-docs/stable/reference/api/pandas.DataFrame.sort_values.html. Accessed: 03 Feb 2021.\n",
    "\n",
    "8. 'How to increment datetime by custom months in python without using library [duplicate]'. Dave Webb. 09 Nov 2010. Available at: https://stackoverflow.com/questions/4130922/how-to-increment-datetime-by-custom-months-in-python-without-using-library. Accessed: 03 Feb 2021.\n",
    "\n",
    "9. 'matplotlib.pyplot'. Matplotlib Development Team. 05 Jan 2020. Available at: https://matplotlib.org/3.1.1/api/_as_gen/matplotlib.pyplot.html. Accessed: 04 Feb 2021.\n",
    "\n",
    "10. 'Legend guide'. Matplotlib Development Team. 05 Jan 2020. Available at: https://matplotlib.org/3.1.1/tutorials/intermediate/legend_guide.html. Accessed: 04 Feb 2021.\n",
    "\n",
    "11. 'pandas.Series.str.contains'. Pandas Development Team. Available at: https://pandas.pydata.org/pandas-docs/stable/reference/api/pandas.Series.str.contains.html. Accessed: 05 Feb 2021\n",
    "\n",
    "12. 'Box plots with custom fill colors'. Matplotlib Development Team. 05 Jan 2020. Available at: https://matplotlib.org/3.1.1/gallery/statistics/boxplot_color.html. Accessed: 06 Feb 2021.\n",
    "\n",
    "13. 'Python Matplotlib Boxplot Color'. ImportanceOfBeingErnest. 02 Feb 2017. Available at: https://stackoverflow.com/questions/41997493/python-matplotlib-boxplot-color. Accessed: 06 Feb 2021.\n",
    "\n",
    "14. 'matplotlib.axes.Axes.boxplot'. Matplotlib Development Team. 05 Jan 2020. Available at: https://matplotlib.org/3.1.1/api/_as_gen/matplotlib.axes.Axes.boxplot.html. Accessed: 06 Feb 2021.\n",
    "\n",
    "15. 'matplotlib.pyplot.yscale'. Matplotlib Development Team. 05 Jan 2020. Available at: https://matplotlib.org/3.1.1/api/_as_gen/matplotlib.pyplot.yscale.html. Accessed: 06 Feb 2021.\n",
    "\n",
    "16. 'Debugging Numpy VisibleDeprecationWarning (ndarray from ragged nested sequences)'. hpaulj. 26 Jul 2020. Available at: https://stackoverflow.com/questions/63097829/debugging-numpy-visibledeprecationwarning-ndarray-from-ragged-nested-sequences. Accessed: 08 Feb 2021.\n",
    "\n",
    "17. 'matplotlib.pyplot.hist'. Matplotlib Development Team. 05 Jan 2020. Available at: https://matplotlib.org/api/_as_gen/matplotlib.pyplot.hist.html. Accessed: 07 Feb 2021."
   ]
  }
 ],
 "metadata": {
  "kernelspec": {
   "display_name": "Python 3",
   "language": "python",
   "name": "python3"
  },
  "language_info": {
   "codemirror_mode": {
    "name": "ipython",
    "version": 3
   },
   "file_extension": ".py",
   "mimetype": "text/x-python",
   "name": "python",
   "nbconvert_exporter": "python",
   "pygments_lexer": "ipython3",
   "version": "3.8.3"
  },
  "toc": {
   "base_numbering": 1,
   "nav_menu": {},
   "number_sections": true,
   "sideBar": true,
   "skip_h1_title": false,
   "title_cell": "Table of Contents",
   "title_sidebar": "Contents",
   "toc_cell": false,
   "toc_position": {},
   "toc_section_display": true,
   "toc_window_display": true
  }
 },
 "nbformat": 4,
 "nbformat_minor": 5
}
